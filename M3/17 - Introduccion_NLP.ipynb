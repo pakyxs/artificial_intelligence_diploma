{
 "cells": [
  {
   "cell_type": "code",
   "execution_count": 47,
   "id": "1966ea3a-5bd5-41f0-ae22-c4fa67868fd6",
   "metadata": {},
   "outputs": [],
   "source": [
    "import pandas as pd\n",
    "import os\n",
    "import re\n",
    "import random\n",
    "import pickle\n",
    "import numpy as np\n",
    "from nltk.tokenize import sent_tokenize\n",
    "from nltk.tokenize import word_tokenize\n",
    "from collections import Counter\n",
    "from sklearn.feature_extraction.text import TfidfTransformer\n",
    "from sklearn.ensemble import RandomForestClassifier\n",
    "from sklearn.metrics import classification_report, roc_auc_score, roc_curve\n",
    "import matplotlib.pyplot as plt\n",
    "from tqdm import tqdm\n",
    "from funciones_propias import load_imdb_corpus_test"
   ]
  },
  {
   "cell_type": "code",
   "execution_count": 16,
   "id": "a1a8bcd1-05ee-4fef-b0d4-758e831c967a",
   "metadata": {},
   "outputs": [
    {
     "name": "stderr",
     "output_type": "stream",
     "text": [
      "[nltk_data] Downloading package punkt to\n",
      "[nltk_data]     C:\\Users\\Martin\\AppData\\Roaming\\nltk_data...\n",
      "[nltk_data]   Unzipping tokenizers\\punkt.zip.\n"
     ]
    },
    {
     "data": {
      "text/plain": [
       "True"
      ]
     },
     "execution_count": 16,
     "metadata": {},
     "output_type": "execute_result"
    }
   ],
   "source": [
    "import nltk\n",
    "nltk.download('punkt')"
   ]
  },
  {
   "cell_type": "code",
   "execution_count": 7,
   "id": "7a330417-5a37-4410-9b4b-b25ce4699518",
   "metadata": {},
   "outputs": [],
   "source": [
    "# data url:  https://drive.google.com/file/d/1CD7s5rnLbsQ7Bgx6WrSv6QwJe6_Q7dvy/view?usp=sharing\n",
    "\n",
    "TRAIN_PATH = \"./train_corpus\"\n",
    "TEST_PATH = \"./test_corpus\""
   ]
  },
  {
   "cell_type": "code",
   "execution_count": 3,
   "id": "d676d3c0-216c-412b-a13a-3604c82c9b73",
   "metadata": {},
   "outputs": [],
   "source": [
    "def load_imdb_corpus(path):\n",
    "    \"\"\" Iterates over the corpus and returns a dictionary with the id,\n",
    "        rank, and raw text \"\"\"\n",
    "\n",
    "    reviews = os.listdir(path)\n",
    "    random.shuffle(reviews)\n",
    "\n",
    "    for r in reviews:\n",
    "        movie, rank = r.split(\".\")[0].split(\"_\")\n",
    "        with open(path + \"/\" + r, encoding=\"utf-8\") as f:\n",
    "            raw_text = f.read()\n",
    "        yield({\"id\": r, \"rank\": rank, \"raw_text\": raw_text}) "
   ]
  },
  {
   "cell_type": "code",
   "execution_count": 4,
   "id": "d98344e6-0693-4086-9dcc-047c7f42de31",
   "metadata": {},
   "outputs": [],
   "source": [
    "def tokenize(raw_text):\n",
    "    \"\"\" Tokenizes \"\"\"\n",
    "\n",
    "    raw_text = raw_text.replace(\"\\'\", \"'\")\n",
    "    raw_text = raw_text.replace(\"<br /><br />\", \"\\n\")\n",
    "    raw_text = raw_text.replace(\"/\", \" / \")\n",
    "    sentences = sent_tokenize(raw_text)\n",
    "    tokens = [e2 for e1 in sentences for e2 in word_tokenize(e1)]  # Nested list comprehension\n",
    "    tokens = [e.lower() for e in tokens if re.compile(\"[A-Za-z]\").search(e[0])]\n",
    "\n",
    "    return(tokens)"
   ]
  },
  {
   "cell_type": "code",
   "execution_count": 8,
   "id": "d60543a6-ffe2-4bfc-8e28-14237afbae7f",
   "metadata": {},
   "outputs": [],
   "source": [
    "imdb_tr = load_imdb_corpus(TRAIN_PATH)"
   ]
  },
  {
   "cell_type": "code",
   "execution_count": 9,
   "id": "2255c139-8d2b-462e-b2f5-fd403167433e",
   "metadata": {},
   "outputs": [
    {
     "name": "stdout",
     "output_type": "stream",
     "text": [
      "{'id': '11657_4.txt', 'rank': '4', 'raw_text': '\"Scary Movie 2\" is a let down to the Scary Movie Franchise. Scary Movie 1, 3 and 4 were all good but this one was kind of boring and not very funny. Luckily they picked their act up after this one and made two more great Scary Movies.<br /><br />This film is about a group of teens who get tricked by their Professor into going to a haunted mansion for a night. Things start to go wrong and then they realize they have to escape.<br /><br />This movie isn\\'t horrible but they could have improved quite a few things. It is a bit of fun and if you liked the other movies in the Scary Movie franchise then give this a watch - but I don\\'t think you will like it nearly as much.'}\n"
     ]
    }
   ],
   "source": [
    "print(next(imdb_tr))"
   ]
  },
  {
   "cell_type": "code",
   "execution_count": 10,
   "id": "9e016ff4-111c-4f8a-86e0-58735f5894e4",
   "metadata": {},
   "outputs": [
    {
     "name": "stdout",
     "output_type": "stream",
     "text": [
      "{'id': '6296_7.txt', 'rank': '7', 'raw_text': 'Parker (Johnathan Schaech) is an aspiring writer who is still looking for his big break. In the meantime, he works as a telephone adviser for a Manhattan psychic hotline. One day, most unfortunately, his apartment building burns down. Parker and his cat make it out alive but are now stuck with the arduous task of finding affordable housing in the Big Apple. Word comes to Parker that a lady, Samantha (Alison Eastwood) is searching for a roommate but will only accept a gay male. Since Parker is straight but the price is right, he decides to pretend that he is gay. Samantha likes him from the start and welcomes him as her new cohabitant. But, poor Parker. Sam is lovely, intelligent and very desirable. How will he be able to keep his true nature under control? Besides, doesn\\'t Sam have a successful businessman-boyfriend anyway? This is a sweet, likable, and humorous film with two very attractive stars in Eastwood and Schaech. Naturally, the plot is a string of \"how can I keep up this ruse\" scenes, with Sam asking Parker for shampoo while she is showering or pleading with him to hold her in bed when she receives bad news. Also, it is necessary for Parker to produce his own \"fake\" gay mate, Boris, when Sam insists upon fixing him up with a man she knows. Hopefully, the gay community will not find this too offensive, as this viewer thought most issues were treated with sensitivity and subtlety. For a small scale movie, the costumes, sets, and camera work were quite nice, also. Therefore, if you love those funny tales of love, get this one soon. You will like what you see, I know it.'}\n"
     ]
    }
   ],
   "source": [
    "print(next(imdb_tr))"
   ]
  },
  {
   "cell_type": "code",
   "execution_count": 11,
   "id": "33dc4a4d-aa08-44e7-896c-1d077594048d",
   "metadata": {},
   "outputs": [],
   "source": [
    "review = next(imdb_tr)"
   ]
  },
  {
   "cell_type": "code",
   "execution_count": 12,
   "id": "15f1ac6b-3660-4976-8f6d-7b3bba71c6cc",
   "metadata": {},
   "outputs": [
    {
     "name": "stdout",
     "output_type": "stream",
     "text": [
      "{'id': '5697_8.txt', 'rank': '8', 'raw_text': \"May 2004, Wonderland is fairly new in the UK. Brilliant film of a brutal true story. If you know LA from the early 80's, you will appreciate how well it is captured. The use of the elements which make up its gritty cinematic style is original, amplifying the experience and bringing the viewer very close to actually being there. The use of a disjointed 'Pulp Fiction' style time line allows exploration of the uncertainty concerning what really happened, while the direction and performances of the cast command attention, especially Val Kilmer as John Holmes; an Oscar for sure if I were handing them out.\"}\n"
     ]
    }
   ],
   "source": [
    "print(review)"
   ]
  },
  {
   "cell_type": "code",
   "execution_count": 17,
   "id": "00ace9e0-863a-4691-a943-36786fe62b90",
   "metadata": {},
   "outputs": [],
   "source": [
    "tokens = tokenize(review[\"raw_text\"])"
   ]
  },
  {
   "cell_type": "code",
   "execution_count": 18,
   "id": "eadfc4d0-272a-407d-b97b-be5274d1bf40",
   "metadata": {},
   "outputs": [
    {
     "name": "stdout",
     "output_type": "stream",
     "text": [
      "['may', 'wonderland', 'is', 'fairly', 'new', 'in', 'the', 'uk', 'brilliant', 'film', 'of', 'a', 'brutal', 'true', 'story', 'if', 'you', 'know', 'la', 'from', 'the', 'early', 'you', 'will', 'appreciate', 'how', 'well', 'it', 'is', 'captured', 'the', 'use', 'of', 'the', 'elements', 'which', 'make', 'up', 'its', 'gritty', 'cinematic', 'style', 'is', 'original', 'amplifying', 'the', 'experience', 'and', 'bringing', 'the', 'viewer', 'very', 'close', 'to', 'actually', 'being', 'there', 'the', 'use', 'of', 'a', 'disjointed', 'fiction', 'style', 'time', 'line', 'allows', 'exploration', 'of', 'the', 'uncertainty', 'concerning', 'what', 'really', 'happened', 'while', 'the', 'direction', 'and', 'performances', 'of', 'the', 'cast', 'command', 'attention', 'especially', 'val', 'kilmer', 'as', 'john', 'holmes', 'an', 'oscar', 'for', 'sure', 'if', 'i', 'were', 'handing', 'them', 'out']\n"
     ]
    }
   ],
   "source": [
    "print(tokens)"
   ]
  },
  {
   "cell_type": "code",
   "execution_count": 19,
   "id": "78cf44b2-a75d-4daa-a3a1-ba9df79cdb81",
   "metadata": {},
   "outputs": [
    {
     "name": "stdout",
     "output_type": "stream",
     "text": [
      "may\n"
     ]
    }
   ],
   "source": [
    "print(tokens[0])"
   ]
  },
  {
   "cell_type": "code",
   "execution_count": 20,
   "id": "411934ec-4f85-4d70-b837-bede4574c215",
   "metadata": {},
   "outputs": [
    {
     "name": "stdout",
     "output_type": "stream",
     "text": [
      "wonderland\n"
     ]
    }
   ],
   "source": [
    "print(tokens[1])"
   ]
  },
  {
   "cell_type": "code",
   "execution_count": 21,
   "id": "49448f9b-07f9-4e9b-87e4-44d67efb1e7c",
   "metadata": {},
   "outputs": [],
   "source": [
    "def text_to_bow(tokens):\n",
    "    return(Counter(tokens))"
   ]
  },
  {
   "cell_type": "code",
   "execution_count": 22,
   "id": "fcc62b94-2896-4ad3-8998-4038b2e08bc0",
   "metadata": {},
   "outputs": [
    {
     "name": "stdout",
     "output_type": "stream",
     "text": [
      "Counter({'the': 10, 'of': 5, 'is': 3, 'a': 2, 'if': 2, 'you': 2, 'use': 2, 'style': 2, 'and': 2, 'may': 1, 'wonderland': 1, 'fairly': 1, 'new': 1, 'in': 1, 'uk': 1, 'brilliant': 1, 'film': 1, 'brutal': 1, 'true': 1, 'story': 1, 'know': 1, 'la': 1, 'from': 1, 'early': 1, 'will': 1, 'appreciate': 1, 'how': 1, 'well': 1, 'it': 1, 'captured': 1, 'elements': 1, 'which': 1, 'make': 1, 'up': 1, 'its': 1, 'gritty': 1, 'cinematic': 1, 'original': 1, 'amplifying': 1, 'experience': 1, 'bringing': 1, 'viewer': 1, 'very': 1, 'close': 1, 'to': 1, 'actually': 1, 'being': 1, 'there': 1, 'disjointed': 1, 'fiction': 1, 'time': 1, 'line': 1, 'allows': 1, 'exploration': 1, 'uncertainty': 1, 'concerning': 1, 'what': 1, 'really': 1, 'happened': 1, 'while': 1, 'direction': 1, 'performances': 1, 'cast': 1, 'command': 1, 'attention': 1, 'especially': 1, 'val': 1, 'kilmer': 1, 'as': 1, 'john': 1, 'holmes': 1, 'an': 1, 'oscar': 1, 'for': 1, 'sure': 1, 'i': 1, 'were': 1, 'handing': 1, 'them': 1, 'out': 1})\n"
     ]
    }
   ],
   "source": [
    "print(text_to_bow(tokens))"
   ]
  },
  {
   "cell_type": "code",
   "execution_count": 23,
   "id": "d07fd8bb-1310-4def-bf2e-1bc34c5ee194",
   "metadata": {},
   "outputs": [],
   "source": [
    "def tokenize_all(corpus_iterator, size=None, print_every=100):\n",
    "    \"\"\" Processes all review \"\"\"\n",
    "\n",
    "    all_reviews = []\n",
    "    for i, r in tqdm(enumerate(corpus_iterator)):\n",
    "        tokens = tokenize(r[\"raw_text\"])\n",
    "        tokens_count = text_to_bow(tokens)\n",
    "        all_reviews.append({\"id\": r[\"id\"],\n",
    "                            \"rank\": r[\"rank\"],\n",
    "                            \"tokens\": tokens,\n",
    "                            \"tk_count\": tokens_count})\n",
    "        if size and (i+1) == size:\n",
    "            break\n",
    "    return(all_reviews)"
   ]
  },
  {
   "cell_type": "code",
   "execution_count": 24,
   "id": "96aaa57d-76ae-4b91-91b5-625a0af365fa",
   "metadata": {},
   "outputs": [
    {
     "name": "stderr",
     "output_type": "stream",
     "text": [
      "999it [00:09, 100.83it/s]\n"
     ]
    }
   ],
   "source": [
    "review_tokens = tokenize_all(imdb_tr, size=1000)"
   ]
  },
  {
   "cell_type": "code",
   "execution_count": 25,
   "id": "0a4f8198-8018-46fb-9d8c-d21941b5689c",
   "metadata": {},
   "outputs": [
    {
     "name": "stdout",
     "output_type": "stream",
     "text": [
      "dict_keys(['id', 'rank', 'tokens', 'tk_count'])\n",
      "{'id': '4526_10.txt', 'rank': '10', 'tokens': ['this', 'movie', 'is', 'really', 'funny', 'the', 'general', 'is', 'keaton', 'finest', 'work', 'but', 'there', 'are', 'many', 'of', 'his', 'works', 'that', 'are', 'more', 'hilarious', 'in', 'this', 'one', 'are', 'multiple', 'sight', 'gags', 'and', 'creative', 'humor', 'we', 'watch', 'it', 'over', 'and', 'over', 'and', 'it', 'only', 'seems', 'to', 'get', 'funnier'], 'tk_count': Counter({'are': 3, 'and': 3, 'this': 2, 'is': 2, 'it': 2, 'over': 2, 'movie': 1, 'really': 1, 'funny': 1, 'the': 1, 'general': 1, 'keaton': 1, 'finest': 1, 'work': 1, 'but': 1, 'there': 1, 'many': 1, 'of': 1, 'his': 1, 'works': 1, 'that': 1, 'more': 1, 'hilarious': 1, 'in': 1, 'one': 1, 'multiple': 1, 'sight': 1, 'gags': 1, 'creative': 1, 'humor': 1, 'we': 1, 'watch': 1, 'only': 1, 'seems': 1, 'to': 1, 'get': 1, 'funnier': 1})}\n"
     ]
    }
   ],
   "source": [
    "print(review_tokens[0].keys())\n",
    "print(review_tokens[0])"
   ]
  },
  {
   "cell_type": "code",
   "execution_count": 26,
   "id": "839a9cbc-5437-4644-8d2a-db146a368f78",
   "metadata": {},
   "outputs": [],
   "source": [
    "def get_freq_tokens(tokenized_data, min_freq):\n",
    "    \"\"\" Count words frequencies across the corpus\"\"\"\n",
    "\n",
    "    t_freqs = {}\n",
    "\n",
    "    for doc in tokenized_data:\n",
    "        for t in doc[\"tk_count\"]:\n",
    "            t_freqs[t] = t_freqs.get(t, 0) + doc[\"tk_count\"][t]\n",
    "\n",
    "    frequent_tokens = set([e for e in t_freqs if t_freqs[e] >= min_freq])\n",
    "\n",
    "    return(frequent_tokens)"
   ]
  },
  {
   "cell_type": "code",
   "execution_count": 53,
   "id": "e60a6f0b-e991-4562-ba9c-6fb16fc81eb2",
   "metadata": {},
   "outputs": [
    {
     "name": "stdout",
     "output_type": "stream",
     "text": [
      "4043\n"
     ]
    }
   ],
   "source": [
    "freq_tokens = get_freq_tokens(review_tokens, 5)\n",
    "print(len(freq_tokens))"
   ]
  },
  {
   "cell_type": "code",
   "execution_count": 28,
   "id": "3191a789-fbfe-4bcb-87d0-b6ed3e054bee",
   "metadata": {},
   "outputs": [],
   "source": [
    "def corpus_to_bow(tokenized_data, freq_tokens):\n",
    "    \"\"\" Shapes data as a pandas DataFrame \"\"\"\n",
    "\n",
    "    filt_tokens = []\n",
    "    for e in tokenized_data:\n",
    "        filt_tokens.append({k:e[\"tk_count\"][k] for k in e[\"tk_count\"] if k in freq_tokens})\n",
    "\n",
    "    ids = [e[\"id\"] for e in tokenized_data]\n",
    "    bag_of_words = pd.DataFrame(filt_tokens, index = ids)\n",
    "    bag_of_words = bag_of_words.reindex(columns=sorted(freq_tokens)).fillna(0)\n",
    "\n",
    "    ranks = pd.Series([e[\"rank\"] for e in tokenized_data], index = ids)\n",
    "\n",
    "    return(bag_of_words, ranks)"
   ]
  },
  {
   "cell_type": "code",
   "execution_count": 29,
   "id": "d6373029-fdb2-4902-9532-72be0d3e9abc",
   "metadata": {},
   "outputs": [],
   "source": [
    "bag_of_words, ranks = corpus_to_bow(review_tokens, freq_tokens)"
   ]
  },
  {
   "cell_type": "code",
   "execution_count": 30,
   "id": "29651366-af3d-4319-b83d-6cba8cb845cc",
   "metadata": {},
   "outputs": [
    {
     "name": "stdout",
     "output_type": "stream",
     "text": [
      "               a  aaron  abandoned  abilities  ability  able  abomination  \\\n",
      "4526_10.txt  0.0    0.0        0.0        0.0      0.0   0.0          0.0   \n",
      "3205_8.txt   2.0    0.0        0.0        0.0      0.0   0.0          0.0   \n",
      "7082_1.txt   3.0    0.0        0.0        0.0      0.0   0.0          0.0   \n",
      "2209_8.txt   2.0    0.0        0.0        0.0      0.0   0.0          0.0   \n",
      "4676_9.txt   7.0    0.0        0.0        0.0      0.0   0.0          0.0   \n",
      "\n",
      "             about  above  absence  ...  your  yourself  youth  zandalee  \\\n",
      "4526_10.txt    0.0    0.0      0.0  ...   0.0       0.0    0.0       0.0   \n",
      "3205_8.txt     0.0    0.0      0.0  ...   1.0       0.0    0.0       0.0   \n",
      "7082_1.txt     0.0    0.0      0.0  ...   0.0       0.0    0.0       0.0   \n",
      "2209_8.txt     0.0    0.0      0.0  ...   0.0       0.0    0.0       0.0   \n",
      "4676_9.txt     0.0    0.0      0.0  ...   0.0       0.0    0.0       0.0   \n",
      "\n",
      "             zenia  zero  zombie  zombies  zone  zorro  \n",
      "4526_10.txt    0.0   0.0     0.0      0.0   0.0    0.0  \n",
      "3205_8.txt     0.0   0.0     0.0      0.0   0.0    0.0  \n",
      "7082_1.txt     0.0   0.0     0.0      0.0   0.0    0.0  \n",
      "2209_8.txt     0.0   0.0     0.0      0.0   0.0    0.0  \n",
      "4676_9.txt     0.0   0.0     0.0      0.0   0.0    0.0  \n",
      "\n",
      "[5 rows x 4043 columns]\n",
      "4526_10.txt    10\n",
      "3205_8.txt      8\n",
      "7082_1.txt      1\n",
      "2209_8.txt      8\n",
      "4676_9.txt      9\n",
      "dtype: object\n"
     ]
    }
   ],
   "source": [
    "print(bag_of_words.head())\n",
    "print(ranks.head())"
   ]
  },
  {
   "cell_type": "code",
   "execution_count": 31,
   "id": "69a3b1f3-5030-4549-89de-de4495a81813",
   "metadata": {},
   "outputs": [
    {
     "data": {
      "text/plain": [
       "fiancé          5.0\n",
       "shadows         5.0\n",
       "heinlein        5.0\n",
       "heat            5.0\n",
       "hearts          5.0\n",
       "             ...   \n",
       "to           5418.0\n",
       "of           5691.0\n",
       "and          6390.0\n",
       "a            6512.0\n",
       "the         13106.0\n",
       "Length: 4043, dtype: float64"
      ]
     },
     "execution_count": 31,
     "metadata": {},
     "output_type": "execute_result"
    }
   ],
   "source": [
    "# Frecuencia por palabra\n",
    "bag_of_words.sum(0).sort_values()"
   ]
  },
  {
   "cell_type": "code",
   "execution_count": 32,
   "id": "b68fbd21-0061-42fb-a1f1-10c0a48883e3",
   "metadata": {},
   "outputs": [
    {
     "name": "stderr",
     "output_type": "stream",
     "text": [
      "25000it [02:42, 153.59it/s]\n",
      "25000it [02:27, 169.50it/s]\n"
     ]
    },
    {
     "name": "stdout",
     "output_type": "stream",
     "text": [
      "                a  abandoned  abc  abilities  ability  able  about  above  \\\n",
      "11219_7.txt  24.0        0.0  0.0        0.0      0.0   0.0    0.0    0.0   \n",
      "5077_9.txt    3.0        0.0  0.0        0.0      0.0   0.0    0.0    0.0   \n",
      "67_10.txt     6.0        0.0  0.0        0.0      0.0   0.0    0.0    0.0   \n",
      "813_10.txt   12.0        0.0  0.0        0.0      0.0   0.0    2.0    0.0   \n",
      "6127_8.txt   10.0        0.0  0.0        0.0      0.0   0.0    1.0    0.0   \n",
      "\n",
      "             absence  absolute  ...  you  young  younger  your  yourself  \\\n",
      "11219_7.txt      0.0       0.0  ...  3.0    0.0      0.0   1.0       0.0   \n",
      "5077_9.txt       0.0       0.0  ...  0.0    1.0      0.0   0.0       0.0   \n",
      "67_10.txt        0.0       0.0  ...  8.0    0.0      0.0   1.0       0.0   \n",
      "813_10.txt       0.0       0.0  ...  0.0    0.0      0.0   0.0       0.0   \n",
      "6127_8.txt       0.0       0.0  ...  0.0    0.0      0.0   1.0       0.0   \n",
      "\n",
      "             youth  zero  zombie  zombies  zone  \n",
      "11219_7.txt    0.0   0.0     0.0      0.0   0.0  \n",
      "5077_9.txt     0.0   0.0     0.0      0.0   0.0  \n",
      "67_10.txt      0.0   0.0     0.0      0.0   0.0  \n",
      "813_10.txt     0.0   0.0     0.0      0.0   0.0  \n",
      "6127_8.txt     0.0   0.0     0.0      0.0   0.0  \n",
      "\n",
      "[5 rows x 4158 columns]\n",
      "                 a  abandoned  abc  abilities  ability  able  about  above  \\\n",
      "1998_8.txt     4.0        0.0  0.0        0.0      0.0   0.0    0.0    0.0   \n",
      "10826_10.txt   4.0        0.0  0.0        0.0      0.0   0.0    0.0    0.0   \n",
      "6994_8.txt     5.0        0.0  0.0        0.0      0.0   0.0    0.0    0.0   \n",
      "3753_10.txt    9.0        0.0  0.0        0.0      0.0   0.0    0.0    0.0   \n",
      "11911_8.txt   10.0        0.0  0.0        0.0      0.0   0.0    3.0    0.0   \n",
      "\n",
      "              absence  absolute  ...  you  young  younger  your  yourself  \\\n",
      "1998_8.txt        0.0       0.0  ...  2.0    0.0      0.0   1.0       0.0   \n",
      "10826_10.txt      0.0       0.0  ...  0.0    0.0      0.0   0.0       0.0   \n",
      "6994_8.txt        0.0       0.0  ...  1.0    0.0      0.0   0.0       0.0   \n",
      "3753_10.txt       0.0       1.0  ...  2.0    0.0      0.0   2.0       0.0   \n",
      "11911_8.txt       0.0       0.0  ...  3.0    0.0      0.0   0.0       0.0   \n",
      "\n",
      "              youth  zero  zombie  zombies  zone  \n",
      "1998_8.txt      0.0   0.0     0.0      0.0   0.0  \n",
      "10826_10.txt    0.0   0.0     0.0      0.0   0.0  \n",
      "6994_8.txt      0.0   0.0     0.0      0.0   0.0  \n",
      "3753_10.txt     0.0   0.0     0.0      0.0   0.0  \n",
      "11911_8.txt     0.0   0.0     0.0      0.0   0.0  \n",
      "\n",
      "[5 rows x 4158 columns]\n"
     ]
    }
   ],
   "source": [
    "# Dejamos calculando la dtm para todo el corpus\n",
    "\n",
    "RECALCULATE_TOKENS = True\n",
    "\n",
    "if RECALCULATE_TOKENS:\n",
    "    imdb_tr = load_imdb_corpus(TRAIN_PATH)\n",
    "    imdb_ts = load_imdb_corpus(TEST_PATH)\n",
    "\n",
    "    review_tokens_tr = tokenize_all(imdb_tr)\n",
    "    review_tokens_ts = tokenize_all(imdb_ts)\n",
    "\n",
    "    with open(\"review_tokens.p\", \"wb\") as f:\n",
    "        pickle.dump([review_tokens_tr, review_tokens_ts], f)\n",
    "\n",
    "else:\n",
    "    with open(\"review_tokens.p\", \"rb\") as f:\n",
    "        review_tokens_tr, review_tokens_ts = pickle.load(f)\n",
    "\n",
    "freq_tokens = get_freq_tokens(review_tokens_tr, 100)\n",
    "\n",
    "X_tr, y_tr = corpus_to_bow(review_tokens_tr, freq_tokens)\n",
    "X_ts, y_ts = corpus_to_bow(review_tokens_ts, freq_tokens)\n",
    "\n",
    "print(X_tr.head())\n",
    "print(X_ts.head())"
   ]
  },
  {
   "cell_type": "code",
   "execution_count": 54,
   "id": "90a0744a-fe1f-4d93-a6e2-60516b25f9e2",
   "metadata": {},
   "outputs": [
    {
     "data": {
      "text/html": [
       "<div>\n",
       "<style scoped>\n",
       "    .dataframe tbody tr th:only-of-type {\n",
       "        vertical-align: middle;\n",
       "    }\n",
       "\n",
       "    .dataframe tbody tr th {\n",
       "        vertical-align: top;\n",
       "    }\n",
       "\n",
       "    .dataframe thead th {\n",
       "        text-align: right;\n",
       "    }\n",
       "</style>\n",
       "<table border=\"1\" class=\"dataframe\">\n",
       "  <thead>\n",
       "    <tr style=\"text-align: right;\">\n",
       "      <th></th>\n",
       "      <th>a</th>\n",
       "      <th>abandoned</th>\n",
       "      <th>abc</th>\n",
       "      <th>abilities</th>\n",
       "      <th>ability</th>\n",
       "      <th>able</th>\n",
       "      <th>about</th>\n",
       "      <th>above</th>\n",
       "      <th>absence</th>\n",
       "      <th>absolute</th>\n",
       "      <th>...</th>\n",
       "      <th>you</th>\n",
       "      <th>young</th>\n",
       "      <th>younger</th>\n",
       "      <th>your</th>\n",
       "      <th>yourself</th>\n",
       "      <th>youth</th>\n",
       "      <th>zero</th>\n",
       "      <th>zombie</th>\n",
       "      <th>zombies</th>\n",
       "      <th>zone</th>\n",
       "    </tr>\n",
       "  </thead>\n",
       "  <tbody>\n",
       "    <tr>\n",
       "      <th>11219_7.txt</th>\n",
       "      <td>0.042512</td>\n",
       "      <td>0.0</td>\n",
       "      <td>0.0</td>\n",
       "      <td>0.0</td>\n",
       "      <td>0.0</td>\n",
       "      <td>0.0</td>\n",
       "      <td>0.000000</td>\n",
       "      <td>0.0</td>\n",
       "      <td>0.0</td>\n",
       "      <td>0.0</td>\n",
       "      <td>...</td>\n",
       "      <td>0.033240</td>\n",
       "      <td>0.00000</td>\n",
       "      <td>0.0</td>\n",
       "      <td>0.027313</td>\n",
       "      <td>0.0</td>\n",
       "      <td>0.0</td>\n",
       "      <td>0.0</td>\n",
       "      <td>0.0</td>\n",
       "      <td>0.0</td>\n",
       "      <td>0.0</td>\n",
       "    </tr>\n",
       "    <tr>\n",
       "      <th>5077_9.txt</th>\n",
       "      <td>0.058634</td>\n",
       "      <td>0.0</td>\n",
       "      <td>0.0</td>\n",
       "      <td>0.0</td>\n",
       "      <td>0.0</td>\n",
       "      <td>0.0</td>\n",
       "      <td>0.000000</td>\n",
       "      <td>0.0</td>\n",
       "      <td>0.0</td>\n",
       "      <td>0.0</td>\n",
       "      <td>...</td>\n",
       "      <td>0.000000</td>\n",
       "      <td>0.08715</td>\n",
       "      <td>0.0</td>\n",
       "      <td>0.000000</td>\n",
       "      <td>0.0</td>\n",
       "      <td>0.0</td>\n",
       "      <td>0.0</td>\n",
       "      <td>0.0</td>\n",
       "      <td>0.0</td>\n",
       "      <td>0.0</td>\n",
       "    </tr>\n",
       "    <tr>\n",
       "      <th>67_10.txt</th>\n",
       "      <td>0.050540</td>\n",
       "      <td>0.0</td>\n",
       "      <td>0.0</td>\n",
       "      <td>0.0</td>\n",
       "      <td>0.0</td>\n",
       "      <td>0.0</td>\n",
       "      <td>0.000000</td>\n",
       "      <td>0.0</td>\n",
       "      <td>0.0</td>\n",
       "      <td>0.0</td>\n",
       "      <td>...</td>\n",
       "      <td>0.086779</td>\n",
       "      <td>0.00000</td>\n",
       "      <td>0.0</td>\n",
       "      <td>0.048595</td>\n",
       "      <td>0.0</td>\n",
       "      <td>0.0</td>\n",
       "      <td>0.0</td>\n",
       "      <td>0.0</td>\n",
       "      <td>0.0</td>\n",
       "      <td>0.0</td>\n",
       "    </tr>\n",
       "    <tr>\n",
       "      <th>813_10.txt</th>\n",
       "      <td>0.043751</td>\n",
       "      <td>0.0</td>\n",
       "      <td>0.0</td>\n",
       "      <td>0.0</td>\n",
       "      <td>0.0</td>\n",
       "      <td>0.0</td>\n",
       "      <td>0.038437</td>\n",
       "      <td>0.0</td>\n",
       "      <td>0.0</td>\n",
       "      <td>0.0</td>\n",
       "      <td>...</td>\n",
       "      <td>0.000000</td>\n",
       "      <td>0.00000</td>\n",
       "      <td>0.0</td>\n",
       "      <td>0.000000</td>\n",
       "      <td>0.0</td>\n",
       "      <td>0.0</td>\n",
       "      <td>0.0</td>\n",
       "      <td>0.0</td>\n",
       "      <td>0.0</td>\n",
       "      <td>0.0</td>\n",
       "    </tr>\n",
       "    <tr>\n",
       "      <th>6127_8.txt</th>\n",
       "      <td>0.099381</td>\n",
       "      <td>0.0</td>\n",
       "      <td>0.0</td>\n",
       "      <td>0.0</td>\n",
       "      <td>0.0</td>\n",
       "      <td>0.0</td>\n",
       "      <td>0.054413</td>\n",
       "      <td>0.0</td>\n",
       "      <td>0.0</td>\n",
       "      <td>0.0</td>\n",
       "      <td>...</td>\n",
       "      <td>0.000000</td>\n",
       "      <td>0.00000</td>\n",
       "      <td>0.0</td>\n",
       "      <td>0.080776</td>\n",
       "      <td>0.0</td>\n",
       "      <td>0.0</td>\n",
       "      <td>0.0</td>\n",
       "      <td>0.0</td>\n",
       "      <td>0.0</td>\n",
       "      <td>0.0</td>\n",
       "    </tr>\n",
       "  </tbody>\n",
       "</table>\n",
       "<p>5 rows × 4158 columns</p>\n",
       "</div>"
      ],
      "text/plain": [
       "                    a  abandoned  abc  abilities  ability  able     about  \\\n",
       "11219_7.txt  0.042512        0.0  0.0        0.0      0.0   0.0  0.000000   \n",
       "5077_9.txt   0.058634        0.0  0.0        0.0      0.0   0.0  0.000000   \n",
       "67_10.txt    0.050540        0.0  0.0        0.0      0.0   0.0  0.000000   \n",
       "813_10.txt   0.043751        0.0  0.0        0.0      0.0   0.0  0.038437   \n",
       "6127_8.txt   0.099381        0.0  0.0        0.0      0.0   0.0  0.054413   \n",
       "\n",
       "             above  absence  absolute  ...       you    young  younger  \\\n",
       "11219_7.txt    0.0      0.0       0.0  ...  0.033240  0.00000      0.0   \n",
       "5077_9.txt     0.0      0.0       0.0  ...  0.000000  0.08715      0.0   \n",
       "67_10.txt      0.0      0.0       0.0  ...  0.086779  0.00000      0.0   \n",
       "813_10.txt     0.0      0.0       0.0  ...  0.000000  0.00000      0.0   \n",
       "6127_8.txt     0.0      0.0       0.0  ...  0.000000  0.00000      0.0   \n",
       "\n",
       "                 your  yourself  youth  zero  zombie  zombies  zone  \n",
       "11219_7.txt  0.027313       0.0    0.0   0.0     0.0      0.0   0.0  \n",
       "5077_9.txt   0.000000       0.0    0.0   0.0     0.0      0.0   0.0  \n",
       "67_10.txt    0.048595       0.0    0.0   0.0     0.0      0.0   0.0  \n",
       "813_10.txt   0.000000       0.0    0.0   0.0     0.0      0.0   0.0  \n",
       "6127_8.txt   0.080776       0.0    0.0   0.0     0.0      0.0   0.0  \n",
       "\n",
       "[5 rows x 4158 columns]"
      ]
     },
     "execution_count": 54,
     "metadata": {},
     "output_type": "execute_result"
    }
   ],
   "source": [
    "X_tr.head()"
   ]
  },
  {
   "cell_type": "code",
   "execution_count": 35,
   "id": "ed8a4a65-b751-4c81-b6e9-2cfe05ca360c",
   "metadata": {},
   "outputs": [
    {
     "name": "stdout",
     "output_type": "stream",
     "text": [
      "                    a  abandoned  abc  abilities  ability  able     about  \\\n",
      "11219_7.txt  0.042512        0.0  0.0        0.0      0.0   0.0  0.000000   \n",
      "5077_9.txt   0.058634        0.0  0.0        0.0      0.0   0.0  0.000000   \n",
      "67_10.txt    0.050540        0.0  0.0        0.0      0.0   0.0  0.000000   \n",
      "813_10.txt   0.043751        0.0  0.0        0.0      0.0   0.0  0.038437   \n",
      "6127_8.txt   0.099381        0.0  0.0        0.0      0.0   0.0  0.054413   \n",
      "\n",
      "             above  absence  absolute  ...       you    young  younger  \\\n",
      "11219_7.txt    0.0      0.0       0.0  ...  0.033240  0.00000      0.0   \n",
      "5077_9.txt     0.0      0.0       0.0  ...  0.000000  0.08715      0.0   \n",
      "67_10.txt      0.0      0.0       0.0  ...  0.086779  0.00000      0.0   \n",
      "813_10.txt     0.0      0.0       0.0  ...  0.000000  0.00000      0.0   \n",
      "6127_8.txt     0.0      0.0       0.0  ...  0.000000  0.00000      0.0   \n",
      "\n",
      "                 your  yourself  youth  zero  zombie  zombies  zone  \n",
      "11219_7.txt  0.027313       0.0    0.0   0.0     0.0      0.0   0.0  \n",
      "5077_9.txt   0.000000       0.0    0.0   0.0     0.0      0.0   0.0  \n",
      "67_10.txt    0.048595       0.0    0.0   0.0     0.0      0.0   0.0  \n",
      "813_10.txt   0.000000       0.0    0.0   0.0     0.0      0.0   0.0  \n",
      "6127_8.txt   0.080776       0.0    0.0   0.0     0.0      0.0   0.0  \n",
      "\n",
      "[5 rows x 4158 columns]\n",
      "                     a  abandoned  abc  abilities  ability  able     about  \\\n",
      "1998_8.txt    0.063621        0.0  0.0        0.0      0.0   0.0  0.000000   \n",
      "10826_10.txt  0.066972        0.0  0.0        0.0      0.0   0.0  0.000000   \n",
      "6994_8.txt    0.077748        0.0  0.0        0.0      0.0   0.0  0.000000   \n",
      "3753_10.txt   0.076979        0.0  0.0        0.0      0.0   0.0  0.000000   \n",
      "11911_8.txt   0.050366        0.0  0.0        0.0      0.0   0.0  0.057873   \n",
      "\n",
      "              above  absence  absolute  ...       you  young  younger  \\\n",
      "1998_8.txt      0.0      0.0  0.000000  ...  0.070267    0.0      0.0   \n",
      "10826_10.txt    0.0      0.0  0.000000  ...  0.000000    0.0      0.0   \n",
      "6994_8.txt      0.0      0.0  0.000000  ...  0.046380    0.0      0.0   \n",
      "3753_10.txt     0.0      0.0  0.123817  ...  0.063457    0.0      0.0   \n",
      "11911_8.txt     0.0      0.0  0.000000  ...  0.049820    0.0      0.0   \n",
      "\n",
      "                  your  yourself  youth  zero  zombie  zombies  zone  \n",
      "1998_8.txt    0.071566       0.0    0.0   0.0     0.0      0.0   0.0  \n",
      "10826_10.txt  0.000000       0.0    0.0   0.0     0.0      0.0   0.0  \n",
      "6994_8.txt    0.000000       0.0    0.0   0.0     0.0      0.0   0.0  \n",
      "3753_10.txt   0.109427       0.0    0.0   0.0     0.0      0.0   0.0  \n",
      "11911_8.txt   0.000000       0.0    0.0   0.0     0.0      0.0   0.0  \n",
      "\n",
      "[5 rows x 4158 columns]\n"
     ]
    }
   ],
   "source": [
    "# Transformo a tf-idf\n",
    "tfidf_tr = TfidfTransformer(sublinear_tf=True, norm=\"l2\")  # Vean https://scikit-learn.org/stable/modules/generated/sklearn.feature_extraction.text.TfidfTransformer.html\n",
    "\n",
    "X_tr = pd.DataFrame(tfidf_tr.fit_transform(X_tr).todense(),\n",
    "                    columns=X_tr.columns,\n",
    "                    index=X_tr.index)\n",
    "\n",
    "print(X_tr.head())\n",
    "\n",
    "X_ts = pd.DataFrame(tfidf_tr.transform(X_ts).todense(),  # Importante: noten que no hay fit acá\n",
    "                    columns=X_ts.columns,\n",
    "                    index=X_ts.index)\n",
    "\n",
    "print(X_ts.head())"
   ]
  },
  {
   "cell_type": "code",
   "execution_count": 60,
   "id": "ed466d9d-4619-4954-abf5-77a22a822dbf",
   "metadata": {},
   "outputs": [
    {
     "data": {
      "text/plain": [
       "(25000, 4158)"
      ]
     },
     "execution_count": 60,
     "metadata": {},
     "output_type": "execute_result"
    }
   ],
   "source": [
    "X_ts.shape"
   ]
  },
  {
   "cell_type": "code",
   "execution_count": 59,
   "id": "0cf8e90c-66e1-44a4-b958-6d99148bb304",
   "metadata": {},
   "outputs": [
    {
     "name": "stdout",
     "output_type": "stream",
     "text": [
      "The Man with the Golden Arm, Otto Preminger's controversial, panoramic crime drama, plays itself out among the mental descriptions of its living and architectural occupants, in rhythmic, lashing arrangement. Opening the film, a closeup from within a bar of Frankie looking in through the window, already tells us to the prominence that the protagonist's subjective experience will grasp. Pulled in the direction of increasingly slighter spaces, the film shuts itself off, as the local gangster's long-drawn-out poker game shuts itself from the daylight, bolts itself in, as Sinatra's Frankie Machine has himself locked in a room in the celebrated scene of his harrowing struggle to overcome his habit. In delving into the shapes and faces of its jazzy urban haven, the visual traffic in The Man with the Golden Arm characterizes skewed psychological circumstances, forming an overpowering environment, as maintained by the recurring tracking shots into closeups of Frankie's eyes.<br /><br />The grace of this fiery drama, striking as early as the exciting opening crane shot, displays the command over the perceptible world that studio production allows. The wonderfully dilapidated urban sets define an independent place with no beginnings or ends, an indeterminate state, the sort that in reality hardly last as long as this skid row seems to before being gentrified or leveled. The flair of certain performances, particularly Robert Strauss's as the wonderfully named underworld gambling boss Schwiefka and Arnold Stang as Frankie's trusty four-eyed lapdog, becomes this fiery surreal feature pleasingly. The premise of drug addiction, Sinatra's powerhouse performance, Elmer Bernstein's infectious, forceful jazz score and Saul Bass's famous, influential and controversial opening sequence centering on the animated paper cut-out of a heroin addict's arm ensured that, in its era, The Man with the Golden Arm presses forward upon the cause for realism in the still reticent Hollywood. It is impressionistic and subjective, as I say, but its intent, its force and its spirit are much closer to home.<br /><br />What absorbs me the most in this film is its aspect as a gangster film. It has the illegal card games, short cons, the fights, the guns, the double-crosses, characters on the lam, a femme fatale, a stunningly sexy gun moll, the shady nightclubs and urban landscape, but it does more than exploit this environment for entertainment. Really, it is the perfect environment, and genre, in which to tell this story, a crime-ridden urban borough where it's all too comfortable to escape through a bottle or two, or three, or four, or drugs, a transient dose that really just functions to keep one in obscurity from any enlightenment and all the clear scenarios the world could bid.\n",
      "[0.26854092]\n",
      "1430_10.txt 3451_4.txt\n",
      "Frank Sinatra was far from the ideal actor for westerns. He was a great actor, From Here to Eternity and The Man with The Golden arm are a proof of that, but he did not have the physique of a western hero, you identified him as an urban guy. But he tried to do his job well in Johnny Concho, the fact that the film was a failure at the box office was not his fault. I blame it on two factors: a) the story was too unusual, specially in the fact that Sinatra behaves more like a villain than as a hero throughout the movie. In a genre where people kind of expected a certain pattern, to break away from it the film has to be very good. b) the story is not convincing, it is hard to believe that a whole town will allow Sinatra to do anything he wants just because they are afraid of his brother. Also when a man shows him a special holster that will open sideways so he has not to draw the gun you wonder that if that will make him invincible, why all the gunfighters have not adopted it? I think that this film should not have been withdrawn, because any film with Sinatra is worth seeing, and in spite of its shortcomings it is still enjoyable\n"
     ]
    }
   ],
   "source": [
    "# Distancia coseno la review 1430_10.txt de test y el más cercano de train\n",
    "movie = \"1430_10.txt\"\n",
    "movie_loc = np.where(X_ts.index==movie)[0]\n",
    "\n",
    "with open(\"./test_corpus/\" + movie) as f:\n",
    "    print(f.read())\n",
    "\n",
    "cos_sim = np.dot(X_tr.values, X_ts.values[movie_loc,:].T)\n",
    "print(max(cos_sim))\n",
    "doc_tr = X_tr.index[np.argmax(cos_sim)]\n",
    "print(movie, doc_tr)\n",
    "\n",
    "with open(\"./train_corpus/\" + doc_tr) as f:\n",
    "    print(f.read())"
   ]
  },
  {
   "cell_type": "code",
   "execution_count": 62,
   "id": "8ea6a3c5-77d2-4777-9041-fe6cb72c5078",
   "metadata": {},
   "outputs": [
    {
     "name": "stdout",
     "output_type": "stream",
     "text": [
      "              precision    recall  f1-score   support\n",
      "\n",
      "    negative       1.00      1.00      1.00     12500\n",
      "    positive       1.00      1.00      1.00     12500\n",
      "\n",
      "    accuracy                           1.00     25000\n",
      "   macro avg       1.00      1.00      1.00     25000\n",
      "weighted avg       1.00      1.00      1.00     25000\n",
      "\n",
      "              precision    recall  f1-score   support\n",
      "\n",
      "    negative       0.84      0.85      0.85     12500\n",
      "    positive       0.85      0.84      0.84     12500\n",
      "\n",
      "    accuracy                           0.84     25000\n",
      "   macro avg       0.84      0.84      0.84     25000\n",
      "weighted avg       0.84      0.84      0.84     25000\n",
      "\n",
      "0.9242770112\n"
     ]
    },
    {
     "data": {
      "image/png": "[encoded data removed]",
      "text/plain": [
       "<Figure size 432x288 with 1 Axes>"
      ]
     },
     "metadata": {
      "needs_background": "light"
     },
     "output_type": "display_data"
    }
   ],
   "source": [
    "rf = RandomForestClassifier(n_estimators = 250, n_jobs=-1)\n",
    "\n",
    "y_tr_cl = np.where(y_tr.astype(int)>=7, \"positive\", \"negative\")\n",
    "y_ts_cl = np.where(y_ts.astype(int)>=7, \"positive\", \"negative\")\n",
    "\n",
    "rf.fit(X_tr, y_tr_cl)\n",
    "\n",
    "y_preds_tr = rf.predict(X_tr)\n",
    "y_preds = rf.predict(X_ts)\n",
    "y_preds_proba = rf.predict_proba(X_ts)[:,1]\n",
    "test_roc = roc_auc_score(y_ts_cl, y_preds_proba)\n",
    "\n",
    "# Desempeño en testing\n",
    "print(classification_report(y_tr_cl, y_preds_tr))\n",
    "# Desempeño en testing\n",
    "print(classification_report(y_ts_cl, y_preds))\n",
    "print(roc_auc_score(y_ts_cl, y_preds_proba))\n",
    "\n",
    "\n",
    "# Gráfico de AUC\n",
    "fpr, tpr, threshold = roc_curve([1 if e == \"positive\" else 0 for e in y_ts_cl], y_preds_proba)\n",
    "plt.title('Receiver Operating Characteristic')\n",
    "plt.plot(fpr, tpr, 'b', label = 'AUC = %0.2f' % test_roc)\n",
    "plt.legend(loc = 'lower right')\n",
    "plt.plot([0, 1], [0, 1],'r--')\n",
    "plt.xlim([0, 1])\n",
    "plt.ylim([0, 1])\n",
    "plt.ylabel('True Positive Rate')\n",
    "plt.xlabel('False Positive Rate')\n",
    "plt.show()"
   ]
  },
  {
   "cell_type": "code",
   "execution_count": null,
   "id": "ad0410a3-c454-4fe0-b500-dda7926ac441",
   "metadata": {},
   "outputs": [],
   "source": []
  },
  {
   "cell_type": "code",
   "execution_count": null,
   "id": "3a1eba7d-3de7-45b6-8e52-c7f6090607ab",
   "metadata": {},
   "outputs": [],
   "source": []
  },
  {
   "cell_type": "code",
   "execution_count": null,
   "id": "3039c736-74bd-4487-9c6e-bb83ab5b6d1e",
   "metadata": {},
   "outputs": [],
   "source": []
  }
 ],
 "metadata": {
  "kernelspec": {
   "display_name": "Python 3 (ipykernel)",
   "language": "python",
   "name": "python3"
  },
  "language_info": {
   "codemirror_mode": {
    "name": "ipython",
    "version": 3
   },
   "file_extension": ".py",
   "mimetype": "text/x-python",
   "name": "python",
   "nbconvert_exporter": "python",
   "pygments_lexer": "ipython3",
   "version": "3.9.7"
  }
 },
 "nbformat": 4,
 "nbformat_minor": 5
}
