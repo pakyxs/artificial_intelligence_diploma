{
  "cells": [
    {
      "cell_type": "markdown",
      "metadata": {
        "id": "Ru8mCBqf58he"
      },
      "source": [
        "# Regular Expressions\n",
        "\n",
        "Las expresiones regulares (regex) nos permiten buscar patrones en strings usando casi cualquier tipo de regla. Por ejemplo, buscar todas las letras mayúsculas de un string, buscar un email, un teléfono con cierto formato, etc.\n",
        "\n",
        "En python, utilizamos la librería (que ya viene por defecto con python) **re**. [docs](https://docs.python.org/3/library/re.html)"
      ]
    },
    {
      "cell_type": "markdown",
      "metadata": {
        "id": "RQGBlNzH58hg"
      },
      "source": [
        "## Patrones básicos\n",
        "\n",
        "Tenemos el siguiente string"
      ]
    },
    {
      "cell_type": "code",
      "execution_count": null,
      "metadata": {
        "id": "UVnJ5JU-58hg"
      },
      "outputs": [],
      "source": [
        "text = \"The agent's phone number is 408-555-1234. Call soon!\""
      ]
    },
    {
      "cell_type": "markdown",
      "metadata": {
        "id": "HcBgB0-k58hh"
      },
      "source": [
        "Si queremos saber si la palabra \"phone\" esta en el string, es tan simple como hacer:"
      ]
    },
    {
      "cell_type": "code",
      "execution_count": null,
      "metadata": {
        "id": "yYQ7beGz58hh"
      },
      "outputs": [],
      "source": [
        "'phone' in text"
      ]
    },
    {
      "cell_type": "markdown",
      "metadata": {
        "id": "rGT-Ju1l58hj"
      },
      "source": [
        "De todas formas este caso es muy simple, no estamos buscando un patrón sino una palabra específica.\n",
        "\n",
        "Comencemos viendo como podemos resolver este simple problema con re."
      ]
    },
    {
      "cell_type": "code",
      "execution_count": null,
      "metadata": {
        "id": "KEO5-Ay958hj"
      },
      "outputs": [],
      "source": [
        "import re"
      ]
    },
    {
      "cell_type": "code",
      "execution_count": null,
      "metadata": {
        "id": "-_uHw21w58hk"
      },
      "outputs": [],
      "source": [
        "pattern = 'phone'"
      ]
    },
    {
      "cell_type": "markdown",
      "metadata": {
        "id": "2PgP5QCY-HHg"
      },
      "source": [
        "re tiene el método search para buscar un patrón en un texto:"
      ]
    },
    {
      "cell_type": "code",
      "execution_count": null,
      "metadata": {
        "id": "DznKxSdL58hk"
      },
      "outputs": [],
      "source": [
        "re.search(pattern,text)"
      ]
    },
    {
      "cell_type": "markdown",
      "source": [
        "Sugerencia: PROBAR QUE SUCEDE SI SE BUSCA ALGO QUE NO SE ENCUENTRA EN EL STRING"
      ],
      "metadata": {
        "id": "1qUJNNSZM2QH"
      }
    },
    {
      "cell_type": "code",
      "source": [
        "pattern = \" \" #Completar"
      ],
      "metadata": {
        "id": "kVO_8g0XNBPR"
      },
      "execution_count": null,
      "outputs": []
    },
    {
      "cell_type": "code",
      "execution_count": null,
      "metadata": {
        "id": "hr3hHTEn58hl"
      },
      "outputs": [],
      "source": [
        "re.search(pattern,text)"
      ]
    },
    {
      "cell_type": "markdown",
      "metadata": {
        "id": "mRCWBEL658hl"
      },
      "source": [
        "search() toma un patrón, escanea el texto y retorna un \"Match object\". Si no encuentra el patrón en el texto (como el segundo ejemplo) no retorna nada.\n",
        "\n",
        "Veamos este Match Object en detalle:"
      ]
    },
    {
      "cell_type": "code",
      "execution_count": null,
      "metadata": {
        "id": "t6-yY-Cm58hm"
      },
      "outputs": [],
      "source": [
        "pattern = 'phone'"
      ]
    },
    {
      "cell_type": "code",
      "execution_count": null,
      "metadata": {
        "id": "3qj9dg1r58hm"
      },
      "outputs": [],
      "source": [
        "match = re.search(pattern,text)"
      ]
    },
    {
      "cell_type": "code",
      "execution_count": null,
      "metadata": {
        "id": "nJc-V-fT58hm"
      },
      "outputs": [],
      "source": [
        "match  #Para pensar, porque es util que devuelva lo que encontro si es justamente lo que buscamos? (tip: pensar de forma mas general)"
      ]
    },
    {
      "cell_type": "markdown",
      "metadata": {
        "id": "C-APblJo58hm"
      },
      "source": [
        "Si se fijan dentro del \"span\" hay info sobre los indices de inicio y fin."
      ]
    },
    {
      "cell_type": "code",
      "execution_count": null,
      "metadata": {
        "id": "QKaawJrF58hn"
      },
      "outputs": [],
      "source": [
        "match.span()"
      ]
    },
    {
      "cell_type": "code",
      "execution_count": null,
      "metadata": {
        "id": "X8EzBAGS58hn"
      },
      "outputs": [],
      "source": [
        "match.start()"
      ]
    },
    {
      "cell_type": "code",
      "execution_count": null,
      "metadata": {
        "id": "cLC6xe6j58hn"
      },
      "outputs": [],
      "source": [
        "match.end()"
      ]
    },
    {
      "cell_type": "markdown",
      "metadata": {
        "id": "mLDb8BQA58hn"
      },
      "source": [
        "¿Qué pasa si el patrón ocurre más de una vez en el texto?"
      ]
    },
    {
      "cell_type": "code",
      "execution_count": null,
      "metadata": {
        "id": "QKFMmRLn58ho"
      },
      "outputs": [],
      "source": [
        "text = \"\" #Completar con un texto"
      ]
    },
    {
      "cell_type": "code",
      "execution_count": null,
      "metadata": {
        "id": "OftBsrcX58ho"
      },
      "outputs": [],
      "source": [
        "match = re.search(\"\",text) #En base al texto elegido, buscar una palabra que se repita"
      ]
    },
    {
      "cell_type": "code",
      "execution_count": null,
      "metadata": {
        "id": "fA_C9MKj58ho"
      },
      "outputs": [],
      "source": [
        "match.span()"
      ]
    },
    {
      "cell_type": "markdown",
      "metadata": {
        "id": "7lhTAq0I58ho"
      },
      "source": [
        "Solo matchea la primer instancia. Si quisiéramos una lista de todos los matches, podríamos usar .findall():"
      ]
    },
    {
      "cell_type": "code",
      "execution_count": null,
      "metadata": {
        "id": "qITifj1p58ho"
      },
      "outputs": [],
      "source": [
        "matches = re.findall(\"\",text) #Completar"
      ]
    },
    {
      "cell_type": "code",
      "execution_count": null,
      "metadata": {
        "id": "qtrmLDLE58hp"
      },
      "outputs": [],
      "source": [
        "matches"
      ]
    },
    {
      "cell_type": "code",
      "execution_count": null,
      "metadata": {
        "id": "8ZYi4dAS58hp"
      },
      "outputs": [],
      "source": [
        "len(matches)"
      ]
    },
    {
      "cell_type": "markdown",
      "metadata": {
        "id": "57Txscu258hq"
      },
      "source": [
        "Para obtener el texto matcheado, se puede utilizar el método .group():"
      ]
    },
    {
      "cell_type": "code",
      "execution_count": null,
      "metadata": {
        "id": "TvptcK2e58hq"
      },
      "outputs": [],
      "source": [
        "match.group()"
      ]
    },
    {
      "cell_type": "markdown",
      "metadata": {
        "id": "7QVRntK558hq"
      },
      "source": [
        "# Patrones\n",
        "\n",
        "Hasta ahora vimos como buscar un simple string como \"phone\". Veamos como podríamos buscar patrones más complejos.\n",
        "\n",
        "Si conocemos el formato de lo que queremos buscar, por ejemplo ****@gmail.com, podemos utilizar regex para buscar el patrón en el documento.\n"
      ]
    },
    {
      "cell_type": "markdown",
      "metadata": {
        "id": "5fUoNJN858hq"
      },
      "source": [
        "## Identificadores de caracteres\n",
        "\n",
        "Caracteres como dígitos o simples strings tienen diferentes códigos que los representan. Se pueden utilizar para construir un patrón de búsqueda. Van a ver que en muchos lugares se utiliza \"\\\", esto es para distinguir entre un caracter literal y un patrón. Además, en python cuando vamos a definir una regex ponemos la letra \"r\" al comienzo del string, como verán en los siguientes ejemplos.\n",
        "\n",
        "Identificadores:"
      ]
    },
    {
      "cell_type": "markdown",
      "metadata": {
        "id": "YQdjwYFY58hq"
      },
      "source": [
        "<table ><tr><th>Caracter</th><th>Descripción</th><th>Ejemplo código de patrón</th><th >Ejemplo Match</th></tr>\n",
        "\n",
        "<tr ><td><span >\\d</span></td><td>A digit</td><td>file_\\d\\d</td><td>file_25</td></tr>\n",
        "\n",
        "<tr ><td><span >\\w</span></td><td> matches a \"word\" character: a letter or digit or underbar</td><td>\\w-\\w\\w\\w</td><td>A-b_1</td></tr>\n",
        "\n",
        "\n",
        "\n",
        "<tr ><td><span >\\s</span></td><td>White space</td><td>a\\sb\\sc</td><td>a b c</td></tr>\n",
        "\n",
        "\n",
        "\n",
        "<tr ><td><span >\\D</span></td><td>A non digit</td><td>\\D\\D\\D</td><td>ABC</td></tr>\n",
        "\n",
        "<tr ><td><span >\\W</span></td><td>Non-word</td><td>\\W\\W\\W\\W\\W</td><td>*-+=)</td></tr>\n",
        "\n",
        "<tr ><td><span >\\S</span></td><td>Non-whitespace</td><td>\\S\\S\\S\\S</td><td>Yoyo</td></tr></table>"
      ]
    },
    {
      "cell_type": "markdown",
      "metadata": {
        "id": "Gg4pl8S558hr"
      },
      "source": [
        "Por ejemplo:"
      ]
    },
    {
      "cell_type": "code",
      "execution_count": null,
      "metadata": {
        "id": "Qq8xF-K258hr"
      },
      "outputs": [],
      "source": [
        "text = \"My telephone number is 408-555-1234\""
      ]
    },
    {
      "cell_type": "code",
      "execution_count": null,
      "metadata": {
        "id": "Lnv-8_n958hr"
      },
      "outputs": [],
      "source": [
        "phone = re.search(r'\\d\\d\\d-\\d\\d\\d-\\d\\d\\d\\d',text)"
      ]
    },
    {
      "cell_type": "code",
      "execution_count": null,
      "metadata": {
        "id": "SJSKJY5Y58hr"
      },
      "outputs": [],
      "source": [
        "phone.group()"
      ]
    },
    {
      "cell_type": "markdown",
      "metadata": {
        "id": "jWP4CbNb58hs"
      },
      "source": [
        "Es un poco incómodo tener que escribir \\d\\d\\d\\d, para esto existen los quantifiers.\n",
        "\n",
        "## Quantifiers\n",
        "\n",
        "En conjunto con los identificadores de caracteres que vimos arriba, podemos utilizar quantifiers."
      ]
    },
    {
      "cell_type": "markdown",
      "metadata": {
        "id": "szUdZ_3f58hs"
      },
      "source": [
        "<table ><tr><th>Caracter</th><th>Descripción</th><th>Ejemplo código patrón</th><th >Ejemplo Match</th></tr>\n",
        "\n",
        "<tr ><td><span >+</span></td><td>Occurs one or more times</td><td>\tVersion \\w-\\w+</td><td>Version A-b1_1</td></tr>\n",
        "\n",
        "<tr ><td><span >{3}</span></td><td>Occurs exactly 3 times</td><td>\\D{3}</td><td>abc</td></tr>\n",
        "\n",
        "\n",
        "\n",
        "<tr ><td><span >{2,4}</span></td><td>Occurs 2 to 4 times</td><td>\\d{2,4}</td><td>123</td></tr>\n",
        "\n",
        "\n",
        "\n",
        "<tr ><td><span >{3,}</span></td><td>Occurs 3 or more</td><td>\\w{3,}</td><td>anycharacters</td></tr>\n",
        "\n",
        "<tr ><td><span >\\*</span></td><td>Occurs zero or more times</td><td>A\\*B\\*C*</td><td>AAACC</td></tr>\n"
      ]
    },
    {
      "cell_type": "markdown",
      "metadata": {
        "id": "y_Uxm1Og58hs"
      },
      "source": [
        "Ahora re-escrbimos el patrón:"
      ]
    },
    {
      "cell_type": "code",
      "execution_count": null,
      "metadata": {
        "id": "UBkDNtqr58hs"
      },
      "outputs": [],
      "source": [
        "re.search(r'\\d{3}-\\d{3}-\\d{4}',text)"
      ]
    },
    {
      "cell_type": "markdown",
      "source": [
        "Ejercicio adicional: Escribir un texto que incluya algun otro campo con un formato conocido, por ejemplo CUIT: 99-12345678-9 y repetir el ejemplo anterior"
      ],
      "metadata": {
        "id": "wCDQ4ubmN8-w"
      }
    },
    {
      "cell_type": "code",
      "source": [
        "texto = \" \" #Completar"
      ],
      "metadata": {
        "id": "e9vp_1fbOIXt"
      },
      "execution_count": null,
      "outputs": []
    },
    {
      "cell_type": "code",
      "source": [
        "cuit = re.search(r\"\",texto) #Completar"
      ],
      "metadata": {
        "id": "4pO5GVnTONGA"
      },
      "execution_count": null,
      "outputs": []
    },
    {
      "cell_type": "markdown",
      "metadata": {
        "id": "wocdWtfs58hs"
      },
      "source": [
        "## Groups\n",
        "\n",
        "Imaginen ahora que queremos hacer 2 cosas: encontrar teléfonos y además extraer de forma simple el código de area (los primeros 3 dígitos). Para esto podemos utilizar \"groups\". La idea es agrupar expresiones regulares de la siguiente manera, utilizando ():"
      ]
    },
    {
      "cell_type": "code",
      "execution_count": null,
      "metadata": {
        "id": "EYl0_4-Z58ht"
      },
      "outputs": [],
      "source": [
        "results = re.search(r'(\\d{3})-(\\d{3})-(\\d{4})',text)"
      ]
    },
    {
      "cell_type": "code",
      "execution_count": null,
      "metadata": {
        "id": "SfmaWT3R58ht"
      },
      "outputs": [],
      "source": [
        "# El resultado entero:\n",
        "results.group()"
      ]
    },
    {
      "cell_type": "code",
      "execution_count": null,
      "metadata": {
        "id": "oCWGEGCF58ht"
      },
      "outputs": [],
      "source": [
        "# Al haber utilizado () para separar las regex, podemos acceder a cada una de ellas por separado\n",
        "# A diferencia de las listas, el primer indice en este caso es el 1\n",
        "# Si intentamos acceder al indice 0 nos retornara todos los resultados\n",
        "results.group(1)"
      ]
    },
    {
      "cell_type": "code",
      "execution_count": null,
      "metadata": {
        "id": "nvASACyT58ht"
      },
      "outputs": [],
      "source": [
        "results.group(2)"
      ]
    },
    {
      "cell_type": "code",
      "execution_count": null,
      "metadata": {
        "id": "tMVpcMvp58ht"
      },
      "outputs": [],
      "source": [
        "results.group(3)"
      ]
    },
    {
      "cell_type": "code",
      "execution_count": null,
      "metadata": {
        "id": "YBbVuBX858ht"
      },
      "outputs": [],
      "source": [
        "# Grupo 4 no existe:\n",
        "results.group(4)"
      ]
    },
    {
      "cell_type": "markdown",
      "metadata": {
        "id": "tXj1xEUm58ht"
      },
      "source": [
        "## Or |\n",
        "\n",
        "Utilizando el simbolo: |, podemos hacer un \"or\". Por ejemplo:"
      ]
    },
    {
      "cell_type": "code",
      "execution_count": null,
      "metadata": {
        "id": "nIHoLm2e58hu"
      },
      "outputs": [],
      "source": [
        "re.search(r\"man|woman\",\"This man was here.\")"
      ]
    },
    {
      "cell_type": "code",
      "execution_count": null,
      "metadata": {
        "id": "U7GyRF_Y58hu"
      },
      "outputs": [],
      "source": [
        "re.search(r\"man|woman\",\"This woman was here.\")"
      ]
    },
    {
      "cell_type": "markdown",
      "metadata": {
        "id": "CIrqWyJp58hu"
      },
      "source": [
        "## Wildcard\n",
        "\n",
        "El wildcard se puede utilizar para matchear cualquier caracter. Para esto se utiliza simplemente un \".\" (punto).\n",
        "\n",
        "Por ejemplo:"
      ]
    },
    {
      "cell_type": "code",
      "execution_count": null,
      "metadata": {
        "id": "N4AGrCu458hu"
      },
      "outputs": [],
      "source": [
        "re.findall(r\".at\",\"The cat in the hat sat here.\")"
      ]
    },
    {
      "cell_type": "code",
      "execution_count": null,
      "metadata": {
        "id": "ygt3GVUE58hu"
      },
      "outputs": [],
      "source": [
        "re.findall(r\".at\",\"The bat went splat\")"
      ]
    },
    {
      "cell_type": "markdown",
      "metadata": {
        "id": "DrK8NQZX58hv"
      },
      "source": [
        "Pueden ver que solo matchean 3 caracteres: el wildcard y luego \"at\". Si queremos matchear más caracteres podemos agregar más wildcards o utilizar quantifiers:"
      ]
    },
    {
      "cell_type": "code",
      "execution_count": null,
      "metadata": {
        "id": "5sJZXCDz58hv"
      },
      "outputs": [],
      "source": [
        "re.findall(r\"...at\",\"The bat went splat\")"
      ]
    },
    {
      "cell_type": "markdown",
      "metadata": {
        "id": "g2A-bksZ58hv"
      },
      "source": [
        "Sin embargo, esto trae el problema de que necesitamos saber el tamaño exacto de la palabra que vamos a matchear, puede suceder que querramos traer palabras que terminen en \"at\" pero todas tengan distinta longitud.\n",
        "\n",
        "Para esto se puede utilizar la siguiente expresión que va a buscar uno o más caracteres que NO sean espacio (\\S+) y luego terminen en at."
      ]
    },
    {
      "cell_type": "code",
      "execution_count": null,
      "metadata": {
        "id": "cgt-X29S58hv"
      },
      "outputs": [],
      "source": [
        "re.findall(r'\\S+at',\"The bat went splat\")"
      ]
    },
    {
      "cell_type": "markdown",
      "source": [
        "Ejercicio adicional: repetir el ejemplo anterior con otro texto"
      ],
      "metadata": {
        "id": "lNHo0D1sOa35"
      }
    },
    {
      "cell_type": "code",
      "source": [
        "re.findall(r\"\",\"\") #Completar"
      ],
      "metadata": {
        "id": "sSo4SXa6Orcb"
      },
      "execution_count": null,
      "outputs": []
    },
    {
      "cell_type": "markdown",
      "metadata": {
        "id": "K2ox3YdM58hv"
      },
      "source": [
        "### Starts With y Ends With\n",
        "\n",
        "Para representar un startswith se puede utilizar **^**.\n",
        "\n",
        "Para ends with: **$**:"
      ]
    },
    {
      "cell_type": "code",
      "execution_count": null,
      "metadata": {
        "id": "P8VySD8r58hv"
      },
      "outputs": [],
      "source": [
        "# Ends with\n",
        "re.findall(r'\\d$','This ends with a number 2') #Que sucede si cambiamos el cuantificador? en lugar de digito, buscamos una letra?"
      ]
    },
    {
      "cell_type": "code",
      "execution_count": null,
      "metadata": {
        "id": "XSz8Wvxu58hv"
      },
      "outputs": [],
      "source": [
        "# Starts with\n",
        "re.findall(r'^\\d','1 is the loneliest number.') #Que sucede si movemos de lugar el \"1\"? y si cambiamos por un numero mas grande (3cifras), como podemos hacer para que las devuelva a todas?"
      ]
    },
    {
      "cell_type": "markdown",
      "metadata": {
        "id": "OTUp66Uy58hw"
      },
      "source": [
        "## Excluir caracteres\n",
        "\n",
        "Para excluir caracteres, podemos utilizar **^** en conjunto con corchetes **[]**. Todo lo que este dentro de los corchetes va a ser excluido. Por ejemplo, para excluir los números:"
      ]
    },
    {
      "cell_type": "code",
      "execution_count": null,
      "metadata": {
        "id": "R0JSR7At58hw"
      },
      "outputs": [],
      "source": [
        "phrase = \"there are 3 numbers 34 inside 5 this sentence.\""
      ]
    },
    {
      "cell_type": "code",
      "execution_count": null,
      "metadata": {
        "id": "q2m-Rmvh58hw"
      },
      "outputs": [],
      "source": [
        "re.findall(r'[^\\d]',phrase)"
      ]
    },
    {
      "cell_type": "markdown",
      "metadata": {
        "id": "NLOSe7sQ58hw"
      },
      "source": [
        "Si queremos traer las palabras enteras podemos usar el +:"
      ]
    },
    {
      "cell_type": "code",
      "execution_count": null,
      "metadata": {
        "id": "BJboqM-m58hw"
      },
      "outputs": [],
      "source": [
        "re.findall(r'[^\\d]+',phrase)"
      ]
    },
    {
      "cell_type": "markdown",
      "metadata": {
        "id": "qIWBxxc958hw"
      },
      "source": [
        "Esto podría usarse por ejemplo para eliminar algunos simbolos de un string:"
      ]
    },
    {
      "cell_type": "code",
      "execution_count": null,
      "metadata": {
        "id": "ykAIbGvd58hw"
      },
      "outputs": [],
      "source": [
        "test_phrase = 'This is a string! But it has punctuation. How can we remove it?'"
      ]
    },
    {
      "cell_type": "code",
      "execution_count": null,
      "metadata": {
        "id": "m2bApoMx58hx"
      },
      "outputs": [],
      "source": [
        "re.findall('[^!.? ]+',test_phrase)"
      ]
    },
    {
      "cell_type": "code",
      "execution_count": null,
      "metadata": {
        "id": "2RPPp9u_58hx"
      },
      "outputs": [],
      "source": [
        "clean = ' '.join(re.findall('[^!.? ]+',test_phrase))"
      ]
    },
    {
      "cell_type": "code",
      "execution_count": null,
      "metadata": {
        "id": "uAamLM1158hx"
      },
      "outputs": [],
      "source": [
        "clean"
      ]
    },
    {
      "cell_type": "markdown",
      "source": [
        "Ejercicio adicional: En lugar de unificar las palabras en un nuevo string, se pide hacerlo dentro de una lista (1 palabra por posicion) y luego leerla con listas por compresion.\n",
        "\n",
        "(Pueden hacerlo con un ciclo for tambien)"
      ],
      "metadata": {
        "id": "NnwqEsi0PPxy"
      }
    },
    {
      "cell_type": "markdown",
      "metadata": {
        "id": "o5g_4Y2A58hx"
      },
      "source": [
        "## Parentesis para múltiple opción\n",
        "\n",
        "Si tenemos multiples opciones, podemos utilizar () de la siguiente manera:\n",
        "\n",
        "Busquemos palabras que empiezan con cat y terminen con fish, claw o nap."
      ]
    },
    {
      "cell_type": "code",
      "execution_count": null,
      "metadata": {
        "id": "YitAdB4q58hx"
      },
      "outputs": [],
      "source": [
        "text = 'Hello, would you like some catfish?'\n",
        "texttwo = \"Hello, would you like to take a catnap?\"\n",
        "textthree = \"Hello, have you seen this caterpillar?\""
      ]
    },
    {
      "cell_type": "code",
      "execution_count": null,
      "metadata": {
        "id": "FlTbpjqh58hy"
      },
      "outputs": [],
      "source": [
        "re.search(r'cat(fish|nap|claw)',text)"
      ]
    },
    {
      "cell_type": "code",
      "execution_count": null,
      "metadata": {
        "id": "1Qdpb2ha58hy"
      },
      "outputs": [],
      "source": [
        "re.search(r'cat(fish|nap|claw)',texttwo)"
      ]
    },
    {
      "cell_type": "code",
      "execution_count": null,
      "metadata": {
        "id": "cgjRMLP858hy"
      },
      "outputs": [],
      "source": [
        "re.search(r'cat(fish|nap|claw)',textthree)"
      ]
    },
    {
      "cell_type": "markdown",
      "source": [
        "Aca se evidencia la importancia de que el objeto devuelva la palabra que encontró"
      ],
      "metadata": {
        "id": "7O47z52oPwY3"
      }
    },
    {
      "cell_type": "markdown",
      "metadata": {
        "id": "fZFtpuf-58hy"
      },
      "source": [
        "Para más información sobre regex: https://docs.python.org/3/howto/regex.html\n",
        "\n",
        "https://www.autoregex.xyz/"
      ]
    }
  ],
  "metadata": {
    "colab": {
      "provenance": []
    },
    "kernelspec": {
      "display_name": "Python 3.8.13 ('base')",
      "language": "python",
      "name": "python3"
    },
    "language_info": {
      "codemirror_mode": {
        "name": "ipython",
        "version": 3
      },
      "file_extension": ".py",
      "mimetype": "text/x-python",
      "name": "python",
      "nbconvert_exporter": "python",
      "pygments_lexer": "ipython3",
      "version": "3.8.13"
    },
    "vscode": {
      "interpreter": {
        "hash": "892d461b55a6ce994a56bafd67ae2f3489d9f23234c096cfb51dfe498c166e4b"
      }
    }
  },
  "nbformat": 4,
  "nbformat_minor": 0
}