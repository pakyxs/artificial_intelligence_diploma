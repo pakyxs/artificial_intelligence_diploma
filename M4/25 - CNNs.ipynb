{
  "cells": [
    {
      "cell_type": "markdown",
      "metadata": {
        "id": "7ENiGAZ-3G0y"
      },
      "source": [
        "# CNN\n",
        "\n",
        "Vamos a buscar mejorar el modelo de la clase pasada, utilizando una CNN.\n",
        "\n",
        "Les recomiendo activar la GPU para que este notebook corra más rápido (sobre todo la parte de entrenamiento del modelo)"
      ]
    },
    {
      "cell_type": "code",
      "execution_count": null,
      "metadata": {
        "id": "0kf7Y99s3EWc"
      },
      "outputs": [],
      "source": [
        "import tensorflow\n",
        "import numpy as np\n",
        "import matplotlib.pyplot as plt\n",
        "import seaborn as sns\n",
        "from tensorflow.keras.datasets import mnist"
      ]
    },
    {
      "cell_type": "markdown",
      "metadata": {
        "id": "wzjYKNlc_Gys"
      },
      "source": [
        "Primero cargarmos MINST.\n",
        "\n",
        "Hay que tener en cuenta que las layers Conv2D de tensorflow esperan recibir como input shape algo de la forma (tamaño del dataset, alto img, ancho img, canales).\n",
        "\n",
        "En este caso trabajamos con imagenes en blanco y negro por lo que constan de 1 solo canal.\n",
        "\n",
        "Eso lo especificamos en el siguiente reshape."
      ]
    },
    {
      "cell_type": "code",
      "execution_count": null,
      "metadata": {
        "id": "GQoKQ5mb4-sk"
      },
      "outputs": [],
      "source": [
        "(X_train, y_train), (X_test, y_test) = mnist.load_data()\n",
        "\n",
        "X_train = X_train.reshape((X_train.shape[0], 28, 28, 1))\n",
        "X_test = X_test.reshape((X_test.shape[0], 28, 28, 1))"
      ]
    },
    {
      "cell_type": "markdown",
      "metadata": {
        "id": "Gbylojx7_b9p"
      },
      "source": [
        "En redes neuronales, es bueno escalar los datos. Llevamos todo a valores entre 0 y 1:"
      ]
    },
    {
      "cell_type": "code",
      "execution_count": null,
      "metadata": {
        "id": "XtlfxUgz5yPW"
      },
      "outputs": [],
      "source": [
        "X_train = X_train / 255\n",
        "X_test = X_test / 255"
      ]
    },
    {
      "cell_type": "markdown",
      "metadata": {
        "id": "qeMfBJOh_hGl"
      },
      "source": [
        "Aplicamos one hot encoder como la clase pasada:"
      ]
    },
    {
      "cell_type": "code",
      "execution_count": null,
      "metadata": {
        "id": "i22qoUjQ5CHe"
      },
      "outputs": [],
      "source": [
        "from sklearn.preprocessing import OneHotEncoder\n",
        "\n",
        "ohe = OneHotEncoder(sparse_output=False)\n",
        "y_train = ohe.fit_transform(y_train.reshape(-1, 1))\n",
        "y_test = ohe.transform(y_test.reshape(-1, 1))"
      ]
    },
    {
      "cell_type": "code",
      "execution_count": null,
      "metadata": {
        "id": "h5mNfTUB5Dd-"
      },
      "outputs": [],
      "source": [
        "import tensorflow as tf\n",
        "from tensorflow.keras import datasets, layers, models\n",
        "import matplotlib.pyplot as plt"
      ]
    },
    {
      "cell_type": "markdown",
      "metadata": {
        "id": "B3nriPHy_kXX"
      },
      "source": [
        "Ahora vamos a definir el modelo.\n",
        "\n",
        "EJERCICIO:\n",
        "\n",
        "Definir una CNN de la siguiente manera:\n",
        "\n",
        "- Capa Conv2D de 32 neuronas, filtro de 3x3, activación relu. Recuerden que deben definir también el input shape en esta capa.\n",
        "\n",
        "- Capa MaxPooling2D con filtro de 2x2\n",
        "\n",
        "- Capa Conv2D de 64 neuronas, filtro de 3x3 y activación relu\n",
        "\n",
        "- Capa Max pooling de 2x2"
      ]
    },
    {
      "cell_type": "code",
      "execution_count": null,
      "metadata": {
        "id": "J-pmTNex5E6K"
      },
      "outputs": [],
      "source": [
        "#COMPLETAR\n",
        "model = models.Sequential()\n",
        "model.add(layers.Conv2D(32, (3, 3), activation='relu', input_shape=(28, 28, 1)))\n",
        "model.add(layers.MaxPooling2D((2, 2)))\n",
        "model.add(layers.Conv2D(64, (3, 3), activation='relu'))\n",
        "model.add(layers.MaxPooling2D((2, 2)))"
      ]
    },
    {
      "cell_type": "markdown",
      "metadata": {
        "id": "tMEeKi_bAGGF"
      },
      "source": [
        "Podemos ver como quedo nuestro modelo hasta ahora:  \n",
        "\n",
        "Si definieron todo bien, deberían ver una tabla como esta:\n",
        "\n",
        "```\n",
        "Model: \"sequential\"\n",
        "_________________________________________________________________\n",
        " Layer (type)                Output Shape              Param #   \n",
        "=================================================================\n",
        " conv2d (Conv2D)             (None, 26, 26, 32)        320       \n",
        "                                                                 \n",
        " max_pooling2d (MaxPooling2D  (None, 13, 13, 32)       0         \n",
        " )                                                               \n",
        "                                                                 \n",
        " conv2d_1 (Conv2D)           (None, 11, 11, 64)        18496     \n",
        "                                                                 \n",
        " max_pooling2d_1 (MaxPooling  (None, 5, 5, 64)         0         \n",
        " 2D)                                                             \n",
        "                                                                 \n",
        "=================================================================\n",
        "Total params: 18,816\n",
        "Trainable params: 18,816\n",
        "Non-trainable params: 0\n",
        "_________________________________________________________________\n",
        "\n",
        "```\n",
        "\n"
      ]
    },
    {
      "cell_type": "code",
      "execution_count": null,
      "metadata": {
        "id": "g7ODHVR55glO"
      },
      "outputs": [],
      "source": [
        "model.summary()"
      ]
    },
    {
      "cell_type": "markdown",
      "metadata": {
        "id": "KNMfVOilAVff"
      },
      "source": [
        "Ahora, en la tabla anterior pordemos ver las dimensiones de salida de cada capa.\n",
        "\n",
        "Teniendo esto en cuenta, agregar al modelo:\n",
        "\n",
        "- Flatten para aplanar la salida\n",
        "- Una capa densa de 64 neuronas con activación relu\n",
        "- La capa de salida: ¿Cómo debe ser esta capa? ¿De qué tipo? ¿Cuántas neuronas? ¿Qué función de activación?"
      ]
    },
    {
      "cell_type": "code",
      "execution_count": null,
      "metadata": {
        "id": "xxzftHqV5iyv"
      },
      "outputs": [],
      "source": [
        "#COMPLETAR\n",
        "model.add(layers.Flatten())\n",
        "model.add(layers.Dense(64, activation='relu'))\n",
        "model.add(layers.Dense(10, activation='softmax'))"
      ]
    },
    {
      "cell_type": "code",
      "execution_count": null,
      "metadata": {
        "id": "xNrCTrRA5kV2"
      },
      "outputs": [],
      "source": [
        "model.summary()"
      ]
    },
    {
      "cell_type": "markdown",
      "metadata": {
        "id": "TY-7Jxq-Arje"
      },
      "source": [
        "Ahora entrenamos el modelo:"
      ]
    },
    {
      "cell_type": "code",
      "execution_count": null,
      "metadata": {
        "id": "X9iqV4O15rkR"
      },
      "outputs": [],
      "source": [
        "model.compile(optimizer='adam',\n",
        "              loss=tf.keras.losses.CategoricalCrossentropy(),\n",
        "              metrics=['accuracy'])"
      ]
    },
    {
      "cell_type": "code",
      "execution_count": null,
      "metadata": {
        "id": "f8XC4ac06aND"
      },
      "outputs": [],
      "source": [
        "history = model.fit(X_train, y_train, epochs=10, validation_data=(X_test, y_test))"
      ]
    },
    {
      "cell_type": "markdown",
      "metadata": {
        "id": "BQAIAgkcAt79"
      },
      "source": [
        "Visualizamos métricas"
      ]
    },
    {
      "cell_type": "code",
      "execution_count": null,
      "metadata": {
        "id": "By__5IsH6BB6"
      },
      "outputs": [],
      "source": [
        "plt.plot(history.history['accuracy'], label='accuracy')\n",
        "plt.plot(history.history['val_accuracy'], label = 'val_accuracy')\n",
        "plt.xlabel('Epoch')\n",
        "plt.ylabel('Accuracy')\n",
        "plt.ylim([0.5, 1])\n",
        "plt.legend(loc='lower right')\n",
        "\n",
        "test_loss, test_acc = model.evaluate(X_test,  y_test, verbose=2)"
      ]
    },
    {
      "cell_type": "code",
      "execution_count": null,
      "metadata": {
        "id": "x5aAu8KT6H0k"
      },
      "outputs": [],
      "source": [
        "print(test_acc)"
      ]
    },
    {
      "cell_type": "markdown",
      "metadata": {
        "id": "aULtH6FmAv8X"
      },
      "source": [
        "Pueden jugar agregando o quitando capas al modelo"
      ]
    }
  ],
  "metadata": {
    "accelerator": "GPU",
    "colab": {
      "provenance": []
    },
    "kernelspec": {
      "display_name": "Python 3",
      "name": "python3"
    },
    "language_info": {
      "name": "python"
    }
  },
  "nbformat": 4,
  "nbformat_minor": 0
}